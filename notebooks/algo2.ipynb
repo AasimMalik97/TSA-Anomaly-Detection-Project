{
 "cells": [
  {
   "cell_type": "markdown",
   "metadata": {},
   "source": [
    "# Mean Absolute Deviation"
   ]
  },
  {
   "cell_type": "code",
   "execution_count": null,
   "metadata": {},
   "outputs": [],
   "source": [
    "import pandas as pd\n",
    "\n",
    "# Load the uploaded files\n",
    "test_data = pd.read_csv('../data/test.csv')\n",
    "train_data = pd.read_csv('../data/train.csv')\n",
    "\n",
    "# Calculate MAD for train and test datasets\n",
    "train_mad = (train_data['value'] - train_data['predicted']).abs().mean()\n",
    "test_mad = (test_data['value'] - test_data['predicted']).abs().mean()\n",
    "\n",
    "# Print the results\n",
    "print(\"Mean Absolute Deviation for Train Dataset:\", train_mad)\n",
    "print(\"Mean Absolute Deviation for Test Dataset:\", test_mad)\n"
   ]
  },
  {
   "cell_type": "code",
   "execution_count": null,
   "metadata": {},
   "outputs": [],
   "source": [
    "import matplotlib.pyplot as plt\n",
    "\n",
    "# Filter for false positives\n",
    "false_positives_data = train_data[(~train_data['is_anomaly']) & (train_data['value'] != train_data['predicted'])]\n",
    "\n",
    "# Plot false positives on the training data\n",
    "plt.figure(figsize=(10, 6))\n",
    "plt.plot(train_data['timestamp'], train_data['value'], label='Values', alpha=0.6)\n",
    "plt.scatter(\n",
    "    false_positives_data['timestamp'], \n",
    "    false_positives_data['value'], \n",
    "    color='orange', label='False Positives', zorder=5\n",
    ")\n",
    "plt.title('False Positives in Training Data')\n",
    "plt.xlabel('Timestamp')\n",
    "plt.ylabel('Value')\n",
    "plt.legend()\n",
    "plt.grid(True)\n",
    "plt.show()\n",
    "\n",
    "false_positive_stats = false_positives_data.describe()\n",
    "false_positive_stats\n"
   ]
  },
  {
   "cell_type": "markdown",
   "metadata": {},
   "source": [
    "\n",
    "The plot and the summary statistics shown  provide insight into the model's performance, focusing on the false positives identified in the training data.\n",
    "\n",
    "## Plot Explanation\n",
    "### Blue Line: Represents the observed values (value) over time.\n",
    "Orange Dots: Represent false positives, i.e., points where the model incorrectly flagged normal observations as anomalies.\n",
    "The false positives are clustered in regions where there are deviations or spikes in the observed values, indicating the model might be overly sensitive to these variations.\n",
    "\n",
    "### Summary Statistics Explanation\n",
    "The table below the plot provides descriptive statistics for the false positive data:\n",
    "\n",
    "Count: There are 15,054 false positives in the dataset.\n",
    "\n",
    "Mean (value): The average observed value of the false positives is 61.84, with a predicted average (predicted) of 70.62.\n",
    "\n",
    "Standard Deviation (std): The standard deviation of the observed values is 72.40, indicating significant variation in the observed data. The predictions (predicted) also have a high standard deviation (86.98).\n",
    "\n",
    "Min and Max:\n",
    "The minimum value is 0.0, and the maximum is 2393.0 for value, suggesting that the false positives include both low and extreme high values.\n",
    "For predicted, the range is much wider (-281.39 to 2716.13).\n",
    "\n",
    "Quartiles (25%, 50%, 75%):\n",
    "These show the distribution of observed values for false positives:\n",
    "25% of values are below 28.\n",
    "The median (50%) is 45.\n",
    "75% of values are below 72."
   ]
  },
  {
   "cell_type": "markdown",
   "metadata": {},
   "source": []
  }
 ],
 "metadata": {
  "kernelspec": {
   "display_name": "Python 3",
   "language": "python",
   "name": "python3"
  },
  "language_info": {
   "codemirror_mode": {
    "name": "ipython",
    "version": 3
   },
   "file_extension": ".py",
   "mimetype": "text/x-python",
   "name": "python",
   "nbconvert_exporter": "python",
   "pygments_lexer": "ipython3",
   "version": "3.12.3"
  }
 },
 "nbformat": 4,
 "nbformat_minor": 2
}
